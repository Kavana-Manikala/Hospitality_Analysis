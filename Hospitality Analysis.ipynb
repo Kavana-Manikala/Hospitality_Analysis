{
 "cells": [
  {
   "cell_type": "code",
   "execution_count": 1,
   "id": "8694579c",
   "metadata": {},
   "outputs": [],
   "source": [
    "import pandas as pd\n",
    "import numpy as np"
   ]
  },
  {
   "cell_type": "code",
   "execution_count": 2,
   "id": "217e479a",
   "metadata": {},
   "outputs": [
    {
     "name": "stdout",
     "output_type": "stream",
     "text": [
      "          booking_id  property_id booking_date check_in_date checkout_date  \\\n",
      "0   May012216558RT11        16558   2022-04-27    2022-05-01    2022-05-02   \n",
      "1   May012216558RT12        16558   2022-04-30    2022-05-01    2022-05-02   \n",
      "2   May012216558RT13        16558   2022-04-28    2022-05-01    2022-05-04   \n",
      "3   May012216558RT14        16558   2022-04-28    2022-05-01    2022-05-02   \n",
      "4   May012216558RT15        16558   2022-04-27    2022-05-01    2022-05-02   \n",
      "5   May012216558RT16        16558   2022-05-01    2022-05-01    2022-05-03   \n",
      "6   May012216558RT17        16558   2022-04-28    2022-05-01    2022-05-06   \n",
      "7   May012216558RT18        16558   2022-04-26    2022-05-01    2022-05-03   \n",
      "8   May012216558RT19        16558   2022-04-30    2022-05-01    2022-05-02   \n",
      "9  May012216558RT110        16558   2022-04-28    2022-05-01    2022-05-02   \n",
      "\n",
      "   no_guests room_category booking_platform  ratings_given booking_status  \\\n",
      "0          3           RT1    direct online            1.0    Checked Out   \n",
      "1          2           RT1           others            NaN      Cancelled   \n",
      "2          2           RT1          logtrip            5.0    Checked Out   \n",
      "3          2           RT1           others            NaN      Cancelled   \n",
      "4          4           RT1    direct online            5.0    Checked Out   \n",
      "5          2           RT1           others            4.0    Checked Out   \n",
      "6          2           RT1           others            NaN      Cancelled   \n",
      "7          2           RT1          logtrip            NaN        No Show   \n",
      "8          2           RT1         tripster            NaN    Checked Out   \n",
      "9          1           RT1           others            4.0    Checked Out   \n",
      "\n",
      "   revenue_generated  revenue_realized  \n",
      "0              10010             10010  \n",
      "1               9100              3640  \n",
      "2               9100              9100  \n",
      "3               9100              3640  \n",
      "4              10920             10920  \n",
      "5               9100              9100  \n",
      "6               9100              3640  \n",
      "7               9100              9100  \n",
      "8               9100              9100  \n",
      "9               9100              9100  \n"
     ]
    }
   ],
   "source": [
    "Booking_data = pd.read_csv(\"fact_bookings.csv\")\n",
    "print(Booking_data.head(10))"
   ]
  },
  {
   "cell_type": "code",
   "execution_count": 3,
   "id": "4536c85c",
   "metadata": {},
   "outputs": [
    {
     "name": "stdout",
     "output_type": "stream",
     "text": [
      "  room_id    room_class\n",
      "0     RT1      Standard\n",
      "1     RT2         Elite\n",
      "2     RT3       Premium\n",
      "3     RT4  Presidential\n"
     ]
    }
   ],
   "source": [
    "Room_data = pd.read_csv(r\"C:\\Users\\kavan\\OneDrive\\Desktop\\Excelr Project\\Hospitality Analytics\\org\\dim_rooms.csv\", encoding='unicode_escape')\n",
    "print(Room_data)"
   ]
  },
  {
   "cell_type": "code",
   "execution_count": 4,
   "id": "17774626",
   "metadata": {},
   "outputs": [
    {
     "name": "stdout",
     "output_type": "stream",
     "text": [
      "<class 'pandas.core.frame.DataFrame'>\n",
      "RangeIndex: 134590 entries, 0 to 134589\n",
      "Data columns (total 12 columns):\n",
      " #   Column             Non-Null Count   Dtype  \n",
      "---  ------             --------------   -----  \n",
      " 0   booking_id         134590 non-null  object \n",
      " 1   property_id        134590 non-null  int64  \n",
      " 2   booking_date       134590 non-null  object \n",
      " 3   check_in_date      134590 non-null  object \n",
      " 4   checkout_date      134590 non-null  object \n",
      " 5   no_guests          134590 non-null  int64  \n",
      " 6   room_category      134590 non-null  object \n",
      " 7   booking_platform   134590 non-null  object \n",
      " 8   ratings_given      56683 non-null   float64\n",
      " 9   booking_status     134590 non-null  object \n",
      " 10  revenue_generated  134590 non-null  int64  \n",
      " 11  revenue_realized   134590 non-null  int64  \n",
      "dtypes: float64(1), int64(4), object(7)\n",
      "memory usage: 12.3+ MB\n",
      "<class 'pandas.core.frame.DataFrame'>\n",
      "RangeIndex: 4 entries, 0 to 3\n",
      "Data columns (total 2 columns):\n",
      " #   Column      Non-Null Count  Dtype \n",
      "---  ------      --------------  ----- \n",
      " 0   room_id     4 non-null      object\n",
      " 1   room_class  4 non-null      object\n",
      "dtypes: object(2)\n",
      "memory usage: 192.0+ bytes\n"
     ]
    }
   ],
   "source": [
    "# information of the dataset\n",
    "Booking_data.info() \n",
    "Room_data.info()"
   ]
  },
  {
   "cell_type": "code",
   "execution_count": 5,
   "id": "936a047e",
   "metadata": {},
   "outputs": [
    {
     "name": "stdout",
     "output_type": "stream",
     "text": [
      "(134590, 12)\n",
      "(4, 2)\n"
     ]
    }
   ],
   "source": [
    "# total rows and columns\n",
    "bd= Booking_data.shape\n",
    "rd= Room_data.shape\n",
    "print(bd)\n",
    "print(rd)"
   ]
  },
  {
   "cell_type": "code",
   "execution_count": 6,
   "id": "8cdd4b7b",
   "metadata": {},
   "outputs": [
    {
     "data": {
      "text/html": [
       "<div>\n",
       "<style scoped>\n",
       "    .dataframe tbody tr th:only-of-type {\n",
       "        vertical-align: middle;\n",
       "    }\n",
       "\n",
       "    .dataframe tbody tr th {\n",
       "        vertical-align: top;\n",
       "    }\n",
       "\n",
       "    .dataframe thead th {\n",
       "        text-align: right;\n",
       "    }\n",
       "</style>\n",
       "<table border=\"1\" class=\"dataframe\">\n",
       "  <thead>\n",
       "    <tr style=\"text-align: right;\">\n",
       "      <th></th>\n",
       "      <th>booking_id</th>\n",
       "      <th>property_id</th>\n",
       "      <th>booking_date</th>\n",
       "      <th>check_in_date</th>\n",
       "      <th>checkout_date</th>\n",
       "      <th>no_guests</th>\n",
       "      <th>room_category</th>\n",
       "      <th>booking_platform</th>\n",
       "      <th>ratings_given</th>\n",
       "      <th>booking_status</th>\n",
       "      <th>revenue_generated</th>\n",
       "      <th>revenue_realized</th>\n",
       "    </tr>\n",
       "  </thead>\n",
       "  <tbody>\n",
       "    <tr>\n",
       "      <th>0</th>\n",
       "      <td>May012216558RT11</td>\n",
       "      <td>16558</td>\n",
       "      <td>2022-04-27</td>\n",
       "      <td>2022-05-01</td>\n",
       "      <td>2022-05-02</td>\n",
       "      <td>3</td>\n",
       "      <td>RT1</td>\n",
       "      <td>direct online</td>\n",
       "      <td>1.0</td>\n",
       "      <td>Checked Out</td>\n",
       "      <td>10010</td>\n",
       "      <td>10010</td>\n",
       "    </tr>\n",
       "    <tr>\n",
       "      <th>1</th>\n",
       "      <td>May012216558RT12</td>\n",
       "      <td>16558</td>\n",
       "      <td>2022-04-30</td>\n",
       "      <td>2022-05-01</td>\n",
       "      <td>2022-05-02</td>\n",
       "      <td>2</td>\n",
       "      <td>RT1</td>\n",
       "      <td>others</td>\n",
       "      <td>NaN</td>\n",
       "      <td>Cancelled</td>\n",
       "      <td>9100</td>\n",
       "      <td>3640</td>\n",
       "    </tr>\n",
       "    <tr>\n",
       "      <th>2</th>\n",
       "      <td>May012216558RT13</td>\n",
       "      <td>16558</td>\n",
       "      <td>2022-04-28</td>\n",
       "      <td>2022-05-01</td>\n",
       "      <td>2022-05-04</td>\n",
       "      <td>2</td>\n",
       "      <td>RT1</td>\n",
       "      <td>logtrip</td>\n",
       "      <td>5.0</td>\n",
       "      <td>Checked Out</td>\n",
       "      <td>9100</td>\n",
       "      <td>9100</td>\n",
       "    </tr>\n",
       "    <tr>\n",
       "      <th>3</th>\n",
       "      <td>May012216558RT14</td>\n",
       "      <td>16558</td>\n",
       "      <td>2022-04-28</td>\n",
       "      <td>2022-05-01</td>\n",
       "      <td>2022-05-02</td>\n",
       "      <td>2</td>\n",
       "      <td>RT1</td>\n",
       "      <td>others</td>\n",
       "      <td>NaN</td>\n",
       "      <td>Cancelled</td>\n",
       "      <td>9100</td>\n",
       "      <td>3640</td>\n",
       "    </tr>\n",
       "    <tr>\n",
       "      <th>4</th>\n",
       "      <td>May012216558RT15</td>\n",
       "      <td>16558</td>\n",
       "      <td>2022-04-27</td>\n",
       "      <td>2022-05-01</td>\n",
       "      <td>2022-05-02</td>\n",
       "      <td>4</td>\n",
       "      <td>RT1</td>\n",
       "      <td>direct online</td>\n",
       "      <td>5.0</td>\n",
       "      <td>Checked Out</td>\n",
       "      <td>10920</td>\n",
       "      <td>10920</td>\n",
       "    </tr>\n",
       "  </tbody>\n",
       "</table>\n",
       "</div>"
      ],
      "text/plain": [
       "         booking_id  property_id booking_date check_in_date checkout_date  \\\n",
       "0  May012216558RT11        16558   2022-04-27    2022-05-01    2022-05-02   \n",
       "1  May012216558RT12        16558   2022-04-30    2022-05-01    2022-05-02   \n",
       "2  May012216558RT13        16558   2022-04-28    2022-05-01    2022-05-04   \n",
       "3  May012216558RT14        16558   2022-04-28    2022-05-01    2022-05-02   \n",
       "4  May012216558RT15        16558   2022-04-27    2022-05-01    2022-05-02   \n",
       "\n",
       "   no_guests room_category booking_platform  ratings_given booking_status  \\\n",
       "0          3           RT1    direct online            1.0    Checked Out   \n",
       "1          2           RT1           others            NaN      Cancelled   \n",
       "2          2           RT1          logtrip            5.0    Checked Out   \n",
       "3          2           RT1           others            NaN      Cancelled   \n",
       "4          4           RT1    direct online            5.0    Checked Out   \n",
       "\n",
       "   revenue_generated  revenue_realized  \n",
       "0              10010             10010  \n",
       "1               9100              3640  \n",
       "2               9100              9100  \n",
       "3               9100              3640  \n",
       "4              10920             10920  "
      ]
     },
     "execution_count": 6,
     "metadata": {},
     "output_type": "execute_result"
    }
   ],
   "source": [
    "#the top 5 rows of the dataset\n",
    "Booking_data.head()"
   ]
  },
  {
   "cell_type": "code",
   "execution_count": 7,
   "id": "9eb5f469",
   "metadata": {},
   "outputs": [
    {
     "name": "stdout",
     "output_type": "stream",
     "text": [
      "booking_id            object\n",
      "property_id            int64\n",
      "booking_date          object\n",
      "check_in_date         object\n",
      "checkout_date         object\n",
      "no_guests              int64\n",
      "room_category         object\n",
      "booking_platform      object\n",
      "ratings_given        float64\n",
      "booking_status        object\n",
      "revenue_generated      int64\n",
      "revenue_realized       int64\n",
      "dtype: object\n",
      "room_id       object\n",
      "room_class    object\n",
      "dtype: object\n"
     ]
    }
   ],
   "source": [
    "# check the datatypes\n",
    "bd= Booking_data.dtypes\n",
    "rd= Room_data.dtypes\n",
    "print(bd)\n",
    "print(rd)"
   ]
  },
  {
   "cell_type": "code",
   "execution_count": 8,
   "id": "f5bcc4fe",
   "metadata": {},
   "outputs": [
    {
     "data": {
      "text/html": [
       "<div>\n",
       "<style scoped>\n",
       "    .dataframe tbody tr th:only-of-type {\n",
       "        vertical-align: middle;\n",
       "    }\n",
       "\n",
       "    .dataframe tbody tr th {\n",
       "        vertical-align: top;\n",
       "    }\n",
       "\n",
       "    .dataframe thead th {\n",
       "        text-align: right;\n",
       "    }\n",
       "</style>\n",
       "<table border=\"1\" class=\"dataframe\">\n",
       "  <thead>\n",
       "    <tr style=\"text-align: right;\">\n",
       "      <th></th>\n",
       "      <th>property_id</th>\n",
       "      <th>no_guests</th>\n",
       "      <th>ratings_given</th>\n",
       "      <th>revenue_generated</th>\n",
       "      <th>revenue_realized</th>\n",
       "    </tr>\n",
       "  </thead>\n",
       "  <tbody>\n",
       "    <tr>\n",
       "      <th>count</th>\n",
       "      <td>134590.000000</td>\n",
       "      <td>134590.000000</td>\n",
       "      <td>56683.000000</td>\n",
       "      <td>134590.000000</td>\n",
       "      <td>134590.000000</td>\n",
       "    </tr>\n",
       "    <tr>\n",
       "      <th>mean</th>\n",
       "      <td>18061.113493</td>\n",
       "      <td>2.036808</td>\n",
       "      <td>3.619004</td>\n",
       "      <td>14916.013188</td>\n",
       "      <td>12696.123256</td>\n",
       "    </tr>\n",
       "    <tr>\n",
       "      <th>std</th>\n",
       "      <td>1093.055847</td>\n",
       "      <td>1.031766</td>\n",
       "      <td>1.235009</td>\n",
       "      <td>6452.868072</td>\n",
       "      <td>6928.108124</td>\n",
       "    </tr>\n",
       "    <tr>\n",
       "      <th>min</th>\n",
       "      <td>16558.000000</td>\n",
       "      <td>1.000000</td>\n",
       "      <td>1.000000</td>\n",
       "      <td>6500.000000</td>\n",
       "      <td>2600.000000</td>\n",
       "    </tr>\n",
       "    <tr>\n",
       "      <th>25%</th>\n",
       "      <td>17558.000000</td>\n",
       "      <td>1.000000</td>\n",
       "      <td>3.000000</td>\n",
       "      <td>9900.000000</td>\n",
       "      <td>7600.000000</td>\n",
       "    </tr>\n",
       "    <tr>\n",
       "      <th>50%</th>\n",
       "      <td>17564.000000</td>\n",
       "      <td>2.000000</td>\n",
       "      <td>4.000000</td>\n",
       "      <td>13500.000000</td>\n",
       "      <td>11700.000000</td>\n",
       "    </tr>\n",
       "    <tr>\n",
       "      <th>75%</th>\n",
       "      <td>18563.000000</td>\n",
       "      <td>2.000000</td>\n",
       "      <td>5.000000</td>\n",
       "      <td>18000.000000</td>\n",
       "      <td>15300.000000</td>\n",
       "    </tr>\n",
       "    <tr>\n",
       "      <th>max</th>\n",
       "      <td>19563.000000</td>\n",
       "      <td>6.000000</td>\n",
       "      <td>5.000000</td>\n",
       "      <td>45220.000000</td>\n",
       "      <td>45220.000000</td>\n",
       "    </tr>\n",
       "  </tbody>\n",
       "</table>\n",
       "</div>"
      ],
      "text/plain": [
       "         property_id      no_guests  ratings_given  revenue_generated  \\\n",
       "count  134590.000000  134590.000000   56683.000000      134590.000000   \n",
       "mean    18061.113493       2.036808       3.619004       14916.013188   \n",
       "std      1093.055847       1.031766       1.235009        6452.868072   \n",
       "min     16558.000000       1.000000       1.000000        6500.000000   \n",
       "25%     17558.000000       1.000000       3.000000        9900.000000   \n",
       "50%     17564.000000       2.000000       4.000000       13500.000000   \n",
       "75%     18563.000000       2.000000       5.000000       18000.000000   \n",
       "max     19563.000000       6.000000       5.000000       45220.000000   \n",
       "\n",
       "       revenue_realized  \n",
       "count     134590.000000  \n",
       "mean       12696.123256  \n",
       "std         6928.108124  \n",
       "min         2600.000000  \n",
       "25%         7600.000000  \n",
       "50%        11700.000000  \n",
       "75%        15300.000000  \n",
       "max        45220.000000  "
      ]
     },
     "execution_count": 8,
     "metadata": {},
     "output_type": "execute_result"
    }
   ],
   "source": [
    "#gives the descriptive statistics foe numerical columns\n",
    "Booking_data.describe()"
   ]
  },
  {
   "cell_type": "code",
   "execution_count": 9,
   "id": "c18330c7",
   "metadata": {},
   "outputs": [
    {
     "data": {
      "text/plain": [
       "booking_id               0\n",
       "property_id              0\n",
       "booking_date             0\n",
       "check_in_date            0\n",
       "checkout_date            0\n",
       "no_guests                0\n",
       "room_category            0\n",
       "booking_platform         0\n",
       "ratings_given        77907\n",
       "booking_status           0\n",
       "revenue_generated        0\n",
       "revenue_realized         0\n",
       "dtype: int64"
      ]
     },
     "execution_count": 9,
     "metadata": {},
     "output_type": "execute_result"
    }
   ],
   "source": [
    "# getting the count of total nullvalues in each column\n",
    "Booking_data.isnull().sum() "
   ]
  },
  {
   "cell_type": "code",
   "execution_count": 10,
   "id": "0dfdc7fb",
   "metadata": {},
   "outputs": [],
   "source": [
    "# replacing the null values with 0\n",
    "Booking_data['ratings_given'].fillna(0,inplace=True)"
   ]
  },
  {
   "cell_type": "code",
   "execution_count": 11,
   "id": "447e244e",
   "metadata": {},
   "outputs": [
    {
     "data": {
      "text/plain": [
       "booking_id           0\n",
       "property_id          0\n",
       "booking_date         0\n",
       "check_in_date        0\n",
       "checkout_date        0\n",
       "no_guests            0\n",
       "room_category        0\n",
       "booking_platform     0\n",
       "ratings_given        0\n",
       "booking_status       0\n",
       "revenue_generated    0\n",
       "revenue_realized     0\n",
       "dtype: int64"
      ]
     },
     "execution_count": 11,
     "metadata": {},
     "output_type": "execute_result"
    }
   ],
   "source": [
    "#checking if the values has been replaced\n",
    "Booking_data.isnull().sum() "
   ]
  },
  {
   "cell_type": "code",
   "execution_count": 12,
   "id": "b3184aee",
   "metadata": {},
   "outputs": [],
   "source": [
    "#changing the datatype to datetime\n",
    "Booking_data['booking_date']=pd.to_datetime(Booking_data['booking_date'])\n",
    "Booking_data['check_in_date']=pd.to_datetime(Booking_data['check_in_date'])\n",
    "Booking_data['checkout_date']=pd.to_datetime(Booking_data['checkout_date'])"
   ]
  },
  {
   "cell_type": "code",
   "execution_count": 13,
   "id": "fc178f42",
   "metadata": {},
   "outputs": [
    {
     "name": "stdout",
     "output_type": "stream",
     "text": [
      "datetime64[ns]\n",
      "datetime64[ns]\n",
      "datetime64[ns]\n"
     ]
    }
   ],
   "source": [
    "#Checking if its changed to datetime datatype\n",
    "print(Booking_data['booking_date'].dtype)\n",
    "print(Booking_data['check_in_date'].dtype)\n",
    "print(Booking_data['checkout_date'].dtype)"
   ]
  },
  {
   "cell_type": "code",
   "execution_count": 14,
   "id": "c1183f45",
   "metadata": {},
   "outputs": [
    {
     "name": "stdout",
     "output_type": "stream",
     "text": [
      "<class 'pandas.core.frame.DataFrame'>\n",
      "RangeIndex: 134590 entries, 0 to 134589\n",
      "Data columns (total 12 columns):\n",
      " #   Column             Non-Null Count   Dtype         \n",
      "---  ------             --------------   -----         \n",
      " 0   booking_id         134590 non-null  object        \n",
      " 1   property_id        134590 non-null  int64         \n",
      " 2   booking_date       134590 non-null  datetime64[ns]\n",
      " 3   check_in_date      134590 non-null  datetime64[ns]\n",
      " 4   checkout_date      134590 non-null  datetime64[ns]\n",
      " 5   no_guests          134590 non-null  int64         \n",
      " 6   room_category      134590 non-null  object        \n",
      " 7   booking_platform   134590 non-null  object        \n",
      " 8   ratings_given      134590 non-null  float64       \n",
      " 9   booking_status     134590 non-null  object        \n",
      " 10  revenue_generated  134590 non-null  int64         \n",
      " 11  revenue_realized   134590 non-null  int64         \n",
      "dtypes: datetime64[ns](3), float64(1), int64(4), object(4)\n",
      "memory usage: 12.3+ MB\n"
     ]
    }
   ],
   "source": [
    "#after cleaning and checking nulls, the final info of the cleaned dataset with proper datatypes of all colums and without null values\n",
    "Booking_data.info() "
   ]
  },
  {
   "cell_type": "markdown",
   "id": "1b0d15cf",
   "metadata": {},
   "source": [
    "## Total Booking"
   ]
  },
  {
   "cell_type": "code",
   "execution_count": 15,
   "id": "d975fd19",
   "metadata": {},
   "outputs": [
    {
     "name": "stdout",
     "output_type": "stream",
     "text": [
      "134590\n"
     ]
    }
   ],
   "source": [
    "Total_Booking_Count= Booking_data['booking_id'].count()\n",
    "print(Total_Booking_Count)"
   ]
  },
  {
   "cell_type": "markdown",
   "id": "bb100223",
   "metadata": {},
   "source": [
    "## Total Revenue"
   ]
  },
  {
   "cell_type": "code",
   "execution_count": 16,
   "id": "89d7b905",
   "metadata": {},
   "outputs": [
    {
     "name": "stdout",
     "output_type": "stream",
     "text": [
      "1708771229\n"
     ]
    }
   ],
   "source": [
    "Total_revenue_realized= Booking_data['revenue_realized'].sum()\n",
    "print(Total_revenue_realized)"
   ]
  },
  {
   "cell_type": "markdown",
   "id": "d02a538e",
   "metadata": {},
   "source": [
    "## Bookings by Status"
   ]
  },
  {
   "cell_type": "code",
   "execution_count": 17,
   "id": "0c6d0887",
   "metadata": {
    "scrolled": true
   },
   "outputs": [
    {
     "data": {
      "text/plain": [
       "Checked Out    94411\n",
       "Cancelled      33420\n",
       "No Show         6759\n",
       "Name: booking_status, dtype: int64"
      ]
     },
     "execution_count": 17,
     "metadata": {},
     "output_type": "execute_result"
    }
   ],
   "source": [
    "Booking_data['booking_status'].value_counts()"
   ]
  },
  {
   "cell_type": "markdown",
   "id": "b17aa7d1",
   "metadata": {},
   "source": [
    "## Booking by Status in %"
   ]
  },
  {
   "cell_type": "code",
   "execution_count": 18,
   "id": "975269b0",
   "metadata": {},
   "outputs": [
    {
     "data": {
      "text/plain": [
       "Checked Out    70.0\n",
       "Cancelled      25.0\n",
       "No Show         5.0\n",
       "Name: booking_status, dtype: float64"
      ]
     },
     "execution_count": 18,
     "metadata": {},
     "output_type": "execute_result"
    }
   ],
   "source": [
    "(Booking_data['booking_status'].value_counts(normalize=True)*100).round()"
   ]
  },
  {
   "cell_type": "markdown",
   "id": "4601de5e",
   "metadata": {},
   "source": [
    "## Mergeing two files"
   ]
  },
  {
   "cell_type": "code",
   "execution_count": 19,
   "id": "9f0afc30",
   "metadata": {},
   "outputs": [
    {
     "name": "stdout",
     "output_type": "stream",
     "text": [
      "         booking_id  property_id booking_date check_in_date checkout_date  \\\n",
      "0  May012216558RT11        16558   2022-04-27    2022-05-01    2022-05-02   \n",
      "1  May012216558RT12        16558   2022-04-30    2022-05-01    2022-05-02   \n",
      "2  May012216558RT13        16558   2022-04-28    2022-05-01    2022-05-04   \n",
      "3  May012216558RT14        16558   2022-04-28    2022-05-01    2022-05-02   \n",
      "4  May012216558RT15        16558   2022-04-27    2022-05-01    2022-05-02   \n",
      "\n",
      "   no_guests room_category booking_platform  ratings_given booking_status  \\\n",
      "0          3           RT1    direct online            1.0    Checked Out   \n",
      "1          2           RT1           others            0.0      Cancelled   \n",
      "2          2           RT1          logtrip            5.0    Checked Out   \n",
      "3          2           RT1           others            0.0      Cancelled   \n",
      "4          4           RT1    direct online            5.0    Checked Out   \n",
      "\n",
      "   revenue_generated  revenue_realized room_id room_class  \n",
      "0              10010             10010     RT1   Standard  \n",
      "1               9100              3640     RT1   Standard  \n",
      "2               9100              9100     RT1   Standard  \n",
      "3               9100              3640     RT1   Standard  \n",
      "4              10920             10920     RT1   Standard  \n"
     ]
    }
   ],
   "source": [
    "Hospitality_data=pd.merge(Booking_data,Room_data,left_on='room_category',right_on='room_id')\n",
    "print(Hospitality_data.head())"
   ]
  },
  {
   "cell_type": "markdown",
   "id": "f18f32bd",
   "metadata": {},
   "source": [
    "## Dropping unwanted columns"
   ]
  },
  {
   "cell_type": "code",
   "execution_count": 20,
   "id": "c7b462f6",
   "metadata": {},
   "outputs": [
    {
     "data": {
      "text/plain": [
       "Index(['booking_id', 'check_in_date', 'checkout_date', 'no_guests',\n",
       "       'booking_platform', 'ratings_given', 'booking_status',\n",
       "       'revenue_generated', 'revenue_realized', 'room_id', 'room_class'],\n",
       "      dtype='object')"
      ]
     },
     "execution_count": 20,
     "metadata": {},
     "output_type": "execute_result"
    }
   ],
   "source": [
    "Hospitality_data.drop(['booking_date','property_id','room_category'],axis=1,inplace=True)\n",
    "Hospitality_data.columns"
   ]
  },
  {
   "cell_type": "markdown",
   "id": "c2ae0347",
   "metadata": {},
   "source": [
    "## revenue of room class"
   ]
  },
  {
   "cell_type": "code",
   "execution_count": 21,
   "id": "9020d906",
   "metadata": {},
   "outputs": [
    {
     "name": "stdout",
     "output_type": "stream",
     "text": [
      "     Room Class  Total Revenue\n",
      "0         Elite      560271204\n",
      "1       Premium      462166344\n",
      "2  Presidential      376752786\n",
      "3      Standard      309580895\n"
     ]
    }
   ],
   "source": [
    "Room_class_revenue = Hospitality_data.groupby('room_class')['revenue_realized'].sum().reset_index()\n",
    "Room_class_revenue.columns = ['Room Class','Total Revenue']\n",
    "print(Room_class_revenue)"
   ]
  },
  {
   "cell_type": "markdown",
   "id": "24ed74e2",
   "metadata": {},
   "source": [
    "## booking count of room class"
   ]
  },
  {
   "cell_type": "code",
   "execution_count": 22,
   "id": "58695774",
   "metadata": {},
   "outputs": [
    {
     "name": "stdout",
     "output_type": "stream",
     "text": [
      "     Room Class  Total Bookings\n",
      "0         Elite           49505\n",
      "3      Standard           38446\n",
      "1       Premium           30566\n",
      "2  Presidential           16073\n"
     ]
    }
   ],
   "source": [
    "Room_class_bookings = Hospitality_data.groupby('room_class')['revenue_realized'].count().reset_index()\n",
    "Room_class_bookings.columns=['Room Class','Total Bookings']\n",
    "#sort them in descending\n",
    "Room_class_bookings = Room_class_bookings.sort_values('Total Bookings',ascending=False)\n",
    "print(Room_class_bookings)"
   ]
  },
  {
   "cell_type": "markdown",
   "id": "256cb9e8",
   "metadata": {},
   "source": [
    "## Revenue by platform"
   ]
  },
  {
   "cell_type": "code",
   "execution_count": 23,
   "id": "5fb727ad",
   "metadata": {},
   "outputs": [
    {
     "name": "stdout",
     "output_type": "stream",
     "text": [
      "   index        Platform  Total revenue\n",
      "0      5          others      699353302\n",
      "1      4    makeyourtrip      340834504\n",
      "2      3         logtrip      187554488\n",
      "3      1   direct online      169026467\n",
      "4      6        tripster      123066801\n",
      "5      2         journey      102531334\n",
      "6      0  direct offline       86404333\n"
     ]
    }
   ],
   "source": [
    "Revenue_by_platform = Hospitality_data.groupby('booking_platform')['revenue_realized'].sum().reset_index()\n",
    "Revenue_by_platform.columns=['Platform','Total revenue']\n",
    "#sort them in descending\n",
    "Revenue_by_platform = Revenue_by_platform.sort_values('Total revenue',ascending=False).reset_index()\n",
    "print(Revenue_by_platform)"
   ]
  }
 ],
 "metadata": {
  "kernelspec": {
   "display_name": "Python 3 (ipykernel)",
   "language": "python",
   "name": "python3"
  },
  "language_info": {
   "codemirror_mode": {
    "name": "ipython",
    "version": 3
   },
   "file_extension": ".py",
   "mimetype": "text/x-python",
   "name": "python",
   "nbconvert_exporter": "python",
   "pygments_lexer": "ipython3",
   "version": "3.9.12"
  }
 },
 "nbformat": 4,
 "nbformat_minor": 5
}
